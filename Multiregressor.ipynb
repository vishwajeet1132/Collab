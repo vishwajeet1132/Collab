{
  "nbformat": 4,
  "nbformat_minor": 0,
  "metadata": {
    "colab": {
      "provenance": [],
      "authorship_tag": "ABX9TyNZLt4DBzl9oy1ddILlKf9R",
      "include_colab_link": true
    },
    "kernelspec": {
      "name": "python3",
      "display_name": "Python 3"
    },
    "language_info": {
      "name": "python"
    }
  },
  "cells": [
    {
      "cell_type": "markdown",
      "metadata": {
        "id": "view-in-github",
        "colab_type": "text"
      },
      "source": [
        "<a href=\"https://colab.research.google.com/github/vishwajeet1132/Collab/blob/main/Multiregressor.ipynb\" target=\"_parent\"><img src=\"https://colab.research.google.com/assets/colab-badge.svg\" alt=\"Open In Colab\"/></a>"
      ]
    },
    {
      "cell_type": "code",
      "execution_count": 16,
      "metadata": {
        "colab": {
          "base_uri": "https://localhost:8080/"
        },
        "id": "vbm-KXj11Ryi",
        "outputId": "aaa20957-be8f-480a-cc56-a00f4b47d620"
      },
      "outputs": [
        {
          "output_type": "stream",
          "name": "stdout",
          "text": [
            "Mean Squared Error: 0.031474449606855526\n"
          ]
        }
      ],
      "source": [
        "import pandas as pd\n",
        "from sklearn.preprocessing import MinMaxScaler\n",
        "from sklearn.model_selection import train_test_split, cross_val_score\n",
        "from sklearn.multioutput import MultiOutputRegressor\n",
        "from sklearn.ensemble import RandomForestRegressor\n",
        "from sklearn.metrics import mean_squared_error\n",
        "url = 'https://raw.githubusercontent.com/rc-dbe/bigdatacertification/master/dataset/churn_trasnsformed_new.csv'\n",
        "df_csv = pd.read_csv(url, sep=',',)\n",
        "df = df_csv.drop(\"Unnamed: 0\", axis=1)\n",
        "mm_scaler = MinMaxScaler()\n",
        "column_names = df.columns.tolist()\n",
        "df[column_names] = mm_scaler.fit_transform(df[column_names])\n",
        "df.sort_index(inplace=True)\n",
        "feature_cols = [col for col in df.columns if col != 'TotalCharges']\n",
        "train_feature = df[feature_cols]\n",
        "train_target = df[['TotalCharges']]\n",
        "X_train, X_test, y_train, y_test = train_test_split(train_feature ,train_target, shuffle = True, test_size=0.3, random_state=100)\n",
        "base_regressor = RandomForestRegressor()\n",
        "multi_output_regressor = MultiOutputRegressor(base_regressor)\n",
        "multi_output_regressor.fit(X_train, y_train)\n",
        "y_pred = multi_output_regressor.predict(X_test)\n",
        "mse = mean_squared_error(y_test, y_pred)\n",
        "print(f\"Mean Squared Error: {mse}\")"
      ]
    }
  ]
}